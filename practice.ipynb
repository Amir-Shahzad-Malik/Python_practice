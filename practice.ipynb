{
 "cells": [
  {
   "cell_type": "code",
   "execution_count": 1,
   "metadata": {},
   "outputs": [
    {
     "name": "stdout",
     "output_type": "stream",
     "text": [
      "Hello sher Muhammad! how are you doing dear\n",
      "Hello Ammar! how are you doing dear\n",
      "Hello Sheraz! how are you doing dear\n",
      "Hello amir! how are you doing dear\n"
     ]
    }
   ],
   "source": [
    "names: list[str] = ['sher Muhammad', 'Ammar', 'Sheraz', 'amir']\n",
    "for name in names:\n",
    "    print(f'Hello {name}! how are you doing dear')"
   ]
  },
  {
   "cell_type": "code",
   "execution_count": 3,
   "metadata": {},
   "outputs": [
    {
     "name": "stdout",
     "output_type": "stream",
     "text": [
      "sher Muhammad\n",
      "Ammar\n",
      "Sheraz\n",
      "amir\n"
     ]
    }
   ],
   "source": [
    "print(names[0])\n",
    "print(names[1])\n",
    "print(names[2])\n",
    "print(names[3])\n"
   ]
  },
  {
   "cell_type": "code",
   "execution_count": 4,
   "metadata": {},
   "outputs": [
    {
     "name": "stdout",
     "output_type": "stream",
     "text": [
      "sher Muhammad\n",
      "Ammar\n",
      "Sheraz\n",
      "amir\n"
     ]
    }
   ],
   "source": [
    "for name in names:\n",
    "    print(name)"
   ]
  },
  {
   "cell_type": "code",
   "execution_count": 7,
   "metadata": {},
   "outputs": [
    {
     "name": "stdout",
     "output_type": "stream",
     "text": [
      "I love to drive Honda civic, but I dont have any of them.\n",
      "I love to drive BMW, but I dont have any of them.\n",
      "I love to drive Grande, but I dont have any of them.\n",
      "I love to drive Range rover, but I dont have any of them.\n"
     ]
    }
   ],
   "source": [
    "cars: list[str]= ['Honda civic', 'BMW', 'Grande', 'Range rover']\n",
    "for car in cars:\n",
    "    print(f'I love to drive {car}, but I dont have any of them.')"
   ]
  },
  {
   "cell_type": "code",
   "execution_count": 9,
   "metadata": {},
   "outputs": [
    {
     "name": "stdout",
     "output_type": "stream",
     "text": [
      "slam Imran khan! apun tum logon ko mast dinner py bulana chahta hae, \n",
      "ao na khushbu laga k\n",
      "slam Nawaz sharif! apun tum logon ko mast dinner py bulana chahta hae, \n",
      "ao na khushbu laga k\n",
      "slam Maulana! apun tum logon ko mast dinner py bulana chahta hae, \n",
      "ao na khushbu laga k\n",
      "slam Hafiz! apun tum logon ko mast dinner py bulana chahta hae, \n",
      "ao na khushbu laga k\n",
      "slam Zardari! apun tum logon ko mast dinner py bulana chahta hae, \n",
      "ao na khushbu laga k\n"
     ]
    }
   ],
   "source": [
    "guests: list[str] = ['Imran khan', 'Nawaz sharif', 'Maulana', 'Hafiz', 'Zardari']\n",
    "for guest in guests:\n",
    "    print(f'slam {guest}! apun tum logon ko mast dinner py bulana chahta hae, \\nao na khushbu laga k')"
   ]
  },
  {
   "cell_type": "code",
   "execution_count": 15,
   "metadata": {},
   "outputs": [
    {
     "name": "stdout",
     "output_type": "stream",
     "text": [
      "slam Imran khan! apun tum logon ko mast dinner py bulana chahta hae, \n",
      "ao na khushbu laga k\n",
      "slam Nawaz sharif! apun tum logon ko mast dinner py bulana chahta hae, \n",
      "ao na khushbu laga k\n",
      "slam Maulana! apun tum logon ko mast dinner py bulana chahta hae, \n",
      "ao na khushbu laga k\n",
      "slam Hafiz! apun tum logon ko mast dinner py bulana chahta hae, \n",
      "ao na khushbu laga k\n",
      "slam Zardari! apun tum logon ko mast dinner py bulana chahta hae, \n",
      "ao na khushbu laga k\n",
      "oho,Imran khan ny kaha hae tum sab bhaar mn jao\n",
      "hello Maryam nawaz! plz join me on dinner tonight, I shall be honored to have you at tehzeeb bakers\n",
      "hello Nawaz sharif! plz join me on dinner tonight, I shall be honored to have you at tehzeeb bakers\n",
      "hello Maulana! plz join me on dinner tonight, I shall be honored to have you at tehzeeb bakers\n",
      "hello Hafiz! plz join me on dinner tonight, I shall be honored to have you at tehzeeb bakers\n",
      "hello Zardari! plz join me on dinner tonight, I shall be honored to have you at tehzeeb bakers\n"
     ]
    }
   ],
   "source": [
    "guests: list[str] = ['Imran khan', 'Nawaz sharif', 'Maulana', 'Hafiz', 'Zardari']\n",
    "for guest in guests:\n",
    "    print(f'slam {guest}! apun tum logon ko mast dinner py bulana chahta hae, \\nao na khushbu laga k')\n",
    "unable_to_attend = 'Imran khan'\n",
    "print(f'oho,{unable_to_attend} ny kaha hae tum sab bhaar mn jao')\n",
    "new_guest = 'Maryam nawaz'\n",
    "guests[guests.index(unable_to_attend)] = new_guest\n",
    "for guest in guests:\n",
    "    print(f'hello {guest}! plz join me on dinner tonight, I shall be honored to have you at tehzeeb bakers')"
   ]
  },
  {
   "cell_type": "code",
   "execution_count": 1,
   "metadata": {},
   "outputs": [],
   "source": [
    "numbers = [50, 20, 32, 40, 80, 90, 50, 15]\n",
    "numbers.sort()"
   ]
  },
  {
   "cell_type": "code",
   "execution_count": 2,
   "metadata": {},
   "outputs": [
    {
     "data": {
      "text/plain": [
       "[15, 20, 32, 40, 50, 50, 80, 90]"
      ]
     },
     "execution_count": 2,
     "metadata": {},
     "output_type": "execute_result"
    }
   ],
   "source": [
    "numbers"
   ]
  },
  {
   "cell_type": "code",
   "execution_count": 6,
   "metadata": {},
   "outputs": [
    {
     "data": {
      "text/plain": [
       "90"
      ]
     },
     "execution_count": 6,
     "metadata": {},
     "output_type": "execute_result"
    }
   ],
   "source": [
    "numbers.pop(-2)"
   ]
  },
  {
   "cell_type": "code",
   "execution_count": 4,
   "metadata": {},
   "outputs": [],
   "source": [
    "numbers.append(100)"
   ]
  },
  {
   "cell_type": "code",
   "execution_count": 5,
   "metadata": {},
   "outputs": [
    {
     "data": {
      "text/plain": [
       "[15, 20, 32, 40, 50, 50, 80, 90, 100]"
      ]
     },
     "execution_count": 5,
     "metadata": {},
     "output_type": "execute_result"
    }
   ],
   "source": [
    "numbers"
   ]
  },
  {
   "cell_type": "code",
   "execution_count": 7,
   "metadata": {},
   "outputs": [
    {
     "data": {
      "text/plain": [
       "[15, 20, 32, 40, 50, 50, 80, 100]"
      ]
     },
     "execution_count": 7,
     "metadata": {},
     "output_type": "execute_result"
    }
   ],
   "source": [
    "numbers"
   ]
  },
  {
   "cell_type": "code",
   "execution_count": null,
   "metadata": {},
   "outputs": [],
   "source": []
  }
 ],
 "metadata": {
  "kernelspec": {
   "display_name": "Python 3",
   "language": "python",
   "name": "python3"
  },
  "language_info": {
   "codemirror_mode": {
    "name": "ipython",
    "version": 3
   },
   "file_extension": ".py",
   "mimetype": "text/x-python",
   "name": "python",
   "nbconvert_exporter": "python",
   "pygments_lexer": "ipython3",
   "version": "3.12.5"
  }
 },
 "nbformat": 4,
 "nbformat_minor": 2
}
